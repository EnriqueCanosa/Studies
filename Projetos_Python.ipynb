{
  "nbformat": 4,
  "nbformat_minor": 0,
  "metadata": {
    "colab": {
      "provenance": [],
      "authorship_tag": "ABX9TyOGzMbtKGTx9KGKSr/zO4EI",
      "include_colab_link": true
    },
    "kernelspec": {
      "name": "python3",
      "display_name": "Python 3"
    },
    "language_info": {
      "name": "python"
    }
  },
  "cells": [
    {
      "cell_type": "markdown",
      "metadata": {
        "id": "view-in-github",
        "colab_type": "text"
      },
      "source": [
        "<a href=\"https://colab.research.google.com/github/EnriqueCanosa/Studies/blob/main/Projetos_Python.ipynb\" target=\"_parent\"><img src=\"https://colab.research.google.com/assets/colab-badge.svg\" alt=\"Open In Colab\"/></a>"
      ]
    },
    {
      "cell_type": "code",
      "execution_count": null,
      "metadata": {
        "colab": {
          "base_uri": "https://localhost:8080/"
        },
        "id": "nnspeR0HdnU0",
        "outputId": "204286a0-f578-4592-952d-4999ecb379ce"
      },
      "outputs": [
        {
          "output_type": "stream",
          "name": "stdout",
          "text": [
            "Digite o nome do aluno: Fe\n",
            "Digite a 1ª nota do aluno: 10\n",
            "Digite a 2ª nota do aluno: 15\n",
            "Digite a 3ª nota do aluno: 20\n",
            "Digite a 4ª nota do aluno: 35\n",
            "Nome do aluno: Fe\n",
            "Notas: [10.0, 15.0, 20.0, 35.0]\n",
            "Média: 20.0000\n",
            "Situação: aprovado\n"
          ]
        }
      ],
      "source": [
        "nome_aluno = input(\"Digite o nome do aluno: \")\n",
        "nota1 = float(input(\"Digite a 1ª nota do aluno: \"))\n",
        "nota2 = float(input(\"Digite a 2ª nota do aluno: \"))\n",
        "nota3 = float(input(\"Digite a 3ª nota do aluno: \"))\n",
        "nota4 = float(input(\"Digite a 4ª nota do aluno: \"))\n",
        "\n",
        "media = (nota1 + nota2 + nota3 + nota4) / 4\n",
        "\n",
        "if media >= 6.0:\n",
        "    situacao = \"aprovado\"\n",
        "else:\n",
        "    situacao = \"reprovado\"\n",
        "print(\"Nome do aluno:\", nome_aluno)\n",
        "print(f\"Notas:\", [nota1, nota2, nota3, nota4])\n",
        "print(f\"Média: {media:.4f}\")\n",
        "print(\"Situação:\", situacao)\n"
      ]
    },
    {
      "cell_type": "code",
      "source": [],
      "metadata": {
        "id": "xsvAntAOM6jo"
      },
      "execution_count": null,
      "outputs": []
    },
    {
      "cell_type": "markdown",
      "source": [
        "PROJETO 1"
      ],
      "metadata": {
        "id": "9sHPRojJM-Xu"
      }
    },
    {
      "cell_type": "code",
      "source": [
        "dias_semana = ('Segunda', 'Terça', 'Quarta', 'Quinta', 'Sexta')\n",
        "\n",
        "temperaturas = []\n",
        "\n",
        "temperatura_segunda = float(input(\"Digite a temperatura de Segunda: \"))\n",
        "temperatura_terca = float(input(\"Digite a temperatura de Terça: \"))\n",
        "temperatura_quarta = float(input(\"Digite a temperatura de Quarta: \"))\n",
        "temperatura_quinta = float(input(\"Digite a temperatura de Quinta: \"))\n",
        "temperatura_sexta = float(input(\"Digite a temperatura de Sexta: \"))\n",
        "\n",
        "temperaturas.extend([temperatura_segunda, temperatura_terca, temperatura_quarta, temperatura_quinta, temperatura_sexta])\n",
        "\n",
        "media = sum(temperaturas) / len(temperaturas)\n",
        "\n",
        "print(f\"A média das temperaturas da semana é: {media:.2f}°C\")\n"
      ],
      "metadata": {
        "colab": {
          "base_uri": "https://localhost:8080/"
        },
        "id": "yUkuDt9llpd5",
        "outputId": "c1d92731-2dd9-44d9-ce8b-31350e729198"
      },
      "execution_count": null,
      "outputs": [
        {
          "output_type": "stream",
          "name": "stdout",
          "text": [
            "Digite a temperatura de Segunda: 30\n",
            "Digite a temperatura de Terça: 33\n",
            "Digite a temperatura de Quarta: 35\n",
            "Digite a temperatura de Quinta: 40\n",
            "Digite a temperatura de Sexta: 45\n",
            "A média das temperaturas da semana é: 36.60°C\n"
          ]
        }
      ]
    },
    {
      "cell_type": "code",
      "source": [
        "import random\n",
        "\n",
        "nomes = []\n",
        "\n",
        "nome_1 = input(\"Digite o nome 1: \")\n",
        "nome_2 = input(\"Digite o nome 2: \")\n",
        "nome_3 = input(\"Digite o nome 3: \")\n",
        "nome_4 = input(\"Digite o nome 4: \")\n",
        "nome_5 = input(\"Digite o nome 5: \")\n",
        "\n",
        "\n",
        "nomes.extend([nome_1, nome_2, nome_3, nome_4, nome_5])\n",
        "\n",
        "nome_sorteado = random.choice(nomes)\n",
        "numero_letras = len(nome_sorteado)\n",
        "\n",
        "print(f\"O nome sorteado é: {nome_sorteado}\")\n",
        "print(f\"O nome sorteado possui {numero_letras} letras.\")\n"
      ],
      "metadata": {
        "colab": {
          "base_uri": "https://localhost:8080/"
        },
        "id": "8kt17urmnrc1",
        "outputId": "63f384d2-9c44-4921-9c8f-faed76812b29"
      },
      "execution_count": null,
      "outputs": [
        {
          "output_type": "stream",
          "name": "stdout",
          "text": [
            "Digite o nome 1: Yan\n",
            "Digite o nome 2: Isa\n",
            "Digite o nome 3: Canosa\n",
            "Digite o nome 4: Cami\n",
            "Digite o nome 5: Felps\n",
            "O nome sorteado é: Canosa\n",
            "O nome sorteado possui 6 letras.\n"
          ]
        }
      ]
    },
    {
      "cell_type": "code",
      "source": [
        "nota_p1_aluno1 = float(input(\"Digite a nota da P1 do aluno 1: \"))\n",
        "nota_p2_aluno1 = float(input(\"Digite a nota da P2 do aluno 1: \"))\n",
        "\n",
        "nota_p1_aluno2 = float(input(\"Digite a nota da P1 do aluno 2: \"))\n",
        "nota_p2_aluno2 = float(input(\"Digite a nota da P2 do aluno 2: \"))\n",
        "\n",
        "nota_p1_aluno3 = float(input(\"Digite a nota da P1 do aluno 3: \"))\n",
        "nota_p2_aluno3 = float(input(\"Digite a nota da P2 do aluno 3: \"))\n",
        "\n",
        "nota_p1_aluno4 = float(input(\"Digite a nota da P1 do aluno 4: \"))\n",
        "nota_p2_aluno4 = float(input(\"Digite a nota da P2 do aluno 4: \"))\n",
        "\n",
        "nota_p1_aluno5 = float(input(\"Digite a nota da P1 do aluno 5: \"))\n",
        "nota_p2_aluno5 = float(input(\"Digite a nota da P2 do aluno 5: \"))\n",
        "\n",
        "media_p1 = (nota_p1_aluno1 + nota_p1_aluno2 + nota_p1_aluno3 + nota_p1_aluno4 + nota_p1_aluno5) / 5\n",
        "media_p2 = (nota_p2_aluno1 + nota_p2_aluno2 + nota_p2_aluno3 + nota_p2_aluno4 + nota_p2_aluno5) / 5\n",
        "\n",
        "\n",
        "if media_p1 > media_p2:\n",
        "    melhor_prova = \"P1\"\n",
        "elif media_p2 > media_p1:\n",
        "    melhor_prova = \"P2\"\n",
        "else:\n",
        "    melhor_prova = \"ambas as provas\"\n",
        "\n",
        "print(f\"A média da turma na P1 é: {media_p1:.2f}\")\n",
        "print(f\"A média da turma na P2 é: {media_p2:.2f}\")\n",
        "print(f\"A turma teve melhor desempenho na(s) prova(s): {melhor_prova}\")\n",
        "1\n"
      ],
      "metadata": {
        "colab": {
          "base_uri": "https://localhost:8080/"
        },
        "id": "cdZZM2msups9",
        "outputId": "ac6d366d-880f-4925-a3dc-4851ce8546fc"
      },
      "execution_count": null,
      "outputs": [
        {
          "output_type": "stream",
          "name": "stdout",
          "text": [
            "Digite a nota da P1 do aluno 1: 3\n",
            "Digite a nota da P2 do aluno 1: 4\n",
            "Digite a nota da P1 do aluno 2: 5\n",
            "Digite a nota da P2 do aluno 2: 3\n",
            "Digite a nota da P1 do aluno 3: 2\n",
            "Digite a nota da P2 do aluno 3: 1\n",
            "Digite a nota da P1 do aluno 4: 2\n",
            "Digite a nota da P2 do aluno 4: 3\n",
            "Digite a nota da P1 do aluno 5: 8\n",
            "Digite a nota da P2 do aluno 5: 7\n",
            "A média da turma na P1 é: 4.00\n",
            "A média da turma na P2 é: 3.60\n",
            "A turma teve melhor desempenho na(s) prova(s): P1\n"
          ]
        }
      ]
    },
    {
      "cell_type": "code",
      "source": [
        "import random\n",
        "\n",
        "produtos = {\n",
        "    '001': ['Camiseta', 29.99],\n",
        "    '002': ['Calça Jeans', 59.99],\n",
        "    '003': ['Tênis', 99.99],\n",
        "    '004': ['Boné', 19.99],\n",
        "    '005': ['Meias', 9.99]\n",
        "}\n",
        "\n",
        "produtos_dict = {}\n",
        "\n",
        "for codigo, dados in produtos.items():\n",
        "    codigo_aleatorio = str(random.randint(100, 999))\n",
        "    nome_produto = dados[0]\n",
        "    preco_produto = dados[1]\n",
        "    produtos_dict[codigo_aleatorio] = {'nome': nome_produto, 'preco': preco_produto}\n",
        "\n",
        "quantidade_comprada = int(input(\"Quantidade de produtos a ser comprada: \"))\n",
        "\n",
        "valor_total = 0\n",
        "for _ in range(quantidade_comprada):\n",
        "    codigo_produto = input(\"Digite o código do produto: \")\n",
        "    if codigo_produto in produtos_dict:\n",
        "        valor_total += produtos_dict[codigo_produto]['preco']\n",
        "    else:\n",
        "        print(\"Código de produto inválido. Por favor, tente novamente.\")\n",
        "\n",
        "\n",
        "print(f\"Valor total da compra: R${valor_total:.2f}\")\n"
      ],
      "metadata": {
        "colab": {
          "base_uri": "https://localhost:8080/"
        },
        "id": "xs72Jq8fuqMW",
        "outputId": "42e7e091-9cfb-41a6-90bb-40250b2d40c5"
      },
      "execution_count": null,
      "outputs": [
        {
          "output_type": "stream",
          "name": "stdout",
          "text": [
            "Quantidade de produtos a ser comprada: 1\n",
            "Digite o código do produto: 10\n",
            "Código de produto inválido. Por favor, tente novamente.\n",
            "Valor total da compra: R$0.00\n"
          ]
        }
      ]
    },
    {
      "cell_type": "markdown",
      "source": [
        "**Transformar um ident em qr code com um Link+Ident**"
      ],
      "metadata": {
        "id": "LrB94GLX28LI"
      }
    },
    {
      "cell_type": "markdown",
      "source": [
        "Permutações de uma String Descrição: Desenvolver um Algoritmo recursivo para gerar todas as permutações de uma string dada (Ex: ABC -> ABC, ACB, BAC, BCA, CAB, CBA).\n",
        "Objetivo: Aplicar recursividade para explorar as diferentes combinações possiveis de letras.\n",
        "Desafio extra: Trabalhar com strings grandes e contar quantas permutações são possíveis.\n",
        "\n",
        "Numeros binarios Descrição: Criar um Algoritmo recursivo que gera todas as combinações possiveis de uma sequencia de numeros binarios\n",
        "(ex: ára n = 3 -> 000, 001, 010, 011, 100, 101, 110, 111).\n",
        "Objetivo: Introduzir a recursividade na geração de combinações e explorar como a solução recursiva se compara a soluções interativas.\n",
        "Desafio extra:Implementar uma função para contar quantos desses números tem exatamente um numero especifico de bits 1."
      ],
      "metadata": {
        "id": "JGFwDSflHEgr"
      }
    },
    {
      "cell_type": "code",
      "source": [
        "def permute(s, l, r):\n",
        "    if l == r:\n",
        "        print(\"\".join(s))\n",
        "    else:\n",
        "        for i in range(l, r + 1):\n",
        "            s[l], s[i] = s[i], s[l]\n",
        "            permute(s, l + 1, r)\n",
        "            s[l], s[i] = s[i], s[l]\n",
        "\n",
        "\n",
        "def generate_permutations(string):\n",
        "    n = len(string)\n",
        "    s = list(string)\n",
        "    permute(s, 0, n - 1)\n",
        "string = \"ABC\"\n",
        "print(f\"Permutations of {string}:\")\n",
        "generate_permutations(string)"
      ],
      "metadata": {
        "colab": {
          "base_uri": "https://localhost:8080/"
        },
        "id": "HDe5sakSH9I8",
        "outputId": "5ab1bfda-c38d-4000-c0c7-bcdcb98fb243"
      },
      "execution_count": null,
      "outputs": [
        {
          "output_type": "stream",
          "name": "stdout",
          "text": [
            "Permutations of ABC:\n",
            "ABC\n",
            "ACB\n",
            "BAC\n",
            "BCA\n",
            "CBA\n",
            "CAB\n"
          ]
        }
      ]
    }
  ]
}