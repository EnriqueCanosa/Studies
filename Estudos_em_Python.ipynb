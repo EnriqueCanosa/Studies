{
  "nbformat": 4,
  "nbformat_minor": 0,
  "metadata": {
    "colab": {
      "provenance": [],
      "include_colab_link": true
    },
    "kernelspec": {
      "name": "python3",
      "display_name": "Python 3"
    },
    "language_info": {
      "name": "python"
    }
  },
  "cells": [
    {
      "cell_type": "markdown",
      "metadata": {
        "id": "view-in-github",
        "colab_type": "text"
      },
      "source": [
        "<a href=\"https://colab.research.google.com/github/EnriqueCanosa/Studies/blob/main/Estudos_em_Python.ipynb\" target=\"_parent\"><img src=\"https://colab.research.google.com/assets/colab-badge.svg\" alt=\"Open In Colab\"/></a>"
      ]
    },
    {
      "cell_type": "code",
      "execution_count": null,
      "metadata": {
        "colab": {
          "base_uri": "https://localhost:8080/"
        },
        "id": "XT_m4BIZ_rLI",
        "outputId": "1267d693-42e7-4917-e272-46adbf68562d"
      },
      "outputs": [
        {
          "output_type": "stream",
          "name": "stdout",
          "text": [
            "Hello World\n"
          ]
        }
      ],
      "source": [
        "print ('Hello World') #Comando de saída de dados"
      ]
    },
    {
      "cell_type": "code",
      "source": [
        "print ('Primeira aula de Python')"
      ],
      "metadata": {
        "colab": {
          "base_uri": "https://localhost:8080/"
        },
        "id": "HYxuvaWPBcPp",
        "outputId": "e50714de-3f38-4359-afd3-aed29bdaf3f0"
      },
      "execution_count": null,
      "outputs": [
        {
          "output_type": "stream",
          "name": "stdout",
          "text": [
            "Primeira aula de Python\n"
          ]
        }
      ]
    },
    {
      "cell_type": "code",
      "source": [
        "print (5+3)"
      ],
      "metadata": {
        "colab": {
          "base_uri": "https://localhost:8080/"
        },
        "id": "h2qkcsL3B7IZ",
        "outputId": "2cfa2476-77cb-461e-99f8-644fefc35014"
      },
      "execution_count": null,
      "outputs": [
        {
          "output_type": "stream",
          "name": "stdout",
          "text": [
            "8\n"
          ]
        }
      ]
    },
    {
      "cell_type": "code",
      "source": [
        "print (5/2)"
      ],
      "metadata": {
        "colab": {
          "base_uri": "https://localhost:8080/"
        },
        "id": "_AHeKaaYCD78",
        "outputId": "9501b024-896d-4482-8b1d-d40163f2d223"
      },
      "execution_count": null,
      "outputs": [
        {
          "output_type": "stream",
          "name": "stdout",
          "text": [
            "2.5\n"
          ]
        }
      ]
    },
    {
      "cell_type": "code",
      "source": [
        "print (5//2)"
      ],
      "metadata": {
        "colab": {
          "base_uri": "https://localhost:8080/"
        },
        "id": "0AkNyl1oCYeE",
        "outputId": "66a523ee-9f51-4199-87f1-a3bfb60e3cff"
      },
      "execution_count": null,
      "outputs": [
        {
          "output_type": "stream",
          "name": "stdout",
          "text": [
            "2\n"
          ]
        }
      ]
    },
    {
      "cell_type": "code",
      "source": [
        "print ('5'*5)"
      ],
      "metadata": {
        "colab": {
          "base_uri": "https://localhost:8080/"
        },
        "id": "GvAUkqE4CmEc",
        "outputId": "0b4487cd-af9e-4b83-990d-c64e9aa4a3e4"
      },
      "execution_count": null,
      "outputs": [
        {
          "output_type": "stream",
          "name": "stdout",
          "text": [
            "55555\n"
          ]
        }
      ]
    },
    {
      "cell_type": "code",
      "source": [],
      "metadata": {
        "id": "fi4ErLrxC2h0"
      },
      "execution_count": null,
      "outputs": []
    },
    {
      "cell_type": "markdown",
      "source": [
        "**TRABALHANDO COM VARIÁVEIS**\n",
        "\n"
      ],
      "metadata": {
        "id": "St5tqHvzC9jO"
      }
    },
    {
      "cell_type": "code",
      "source": [
        "a = 10 #Atribui uma variável\n"
      ],
      "metadata": {
        "id": "kUZsGvIEDfcr"
      },
      "execution_count": null,
      "outputs": []
    },
    {
      "cell_type": "code",
      "source": [
        "print (a)"
      ],
      "metadata": {
        "colab": {
          "base_uri": "https://localhost:8080/"
        },
        "id": "szHPf-d8DmRr",
        "outputId": "4fe57ccc-379c-468a-ad4f-7c687b55ae6d"
      },
      "execution_count": null,
      "outputs": [
        {
          "output_type": "stream",
          "name": "stdout",
          "text": [
            "10\n"
          ]
        }
      ]
    },
    {
      "cell_type": "code",
      "source": [
        "type (a) #Retorna o tipo de variável"
      ],
      "metadata": {
        "colab": {
          "base_uri": "https://localhost:8080/"
        },
        "id": "KYO1PQIYDpAD",
        "outputId": "dc42c0c8-715a-4a2f-efd5-6a1524f2e369"
      },
      "execution_count": null,
      "outputs": [
        {
          "output_type": "execute_result",
          "data": {
            "text/plain": [
              "int"
            ]
          },
          "metadata": {},
          "execution_count": 11
        }
      ]
    },
    {
      "cell_type": "code",
      "source": [
        "nota = 7.5"
      ],
      "metadata": {
        "id": "pjOfBL5XDxRK"
      },
      "execution_count": null,
      "outputs": []
    },
    {
      "cell_type": "code",
      "source": [
        "type (nota)"
      ],
      "metadata": {
        "colab": {
          "base_uri": "https://localhost:8080/"
        },
        "id": "Fm1lf53QD9Ki",
        "outputId": "4b889bf2-1f05-4845-d440-c266d89273cf"
      },
      "execution_count": null,
      "outputs": [
        {
          "output_type": "execute_result",
          "data": {
            "text/plain": [
              "float"
            ]
          },
          "metadata": {},
          "execution_count": 13
        }
      ]
    },
    {
      "cell_type": "code",
      "source": [
        "nome = 'Fellipe'"
      ],
      "metadata": {
        "id": "IfbPIHl8D-6a"
      },
      "execution_count": null,
      "outputs": []
    },
    {
      "cell_type": "code",
      "source": [
        "\n",
        "print ('O mais mais da cena é o', nome)\n",
        "type (nome)"
      ],
      "metadata": {
        "colab": {
          "base_uri": "https://localhost:8080/"
        },
        "id": "hzpMtE3XEVmh",
        "outputId": "189c0d7f-f47a-46cb-f0d9-7d57fe5b8ed5"
      },
      "execution_count": null,
      "outputs": [
        {
          "output_type": "stream",
          "name": "stdout",
          "text": [
            "O mais mais da cena é o Fellipe\n"
          ]
        },
        {
          "output_type": "execute_result",
          "data": {
            "text/plain": [
              "str"
            ]
          },
          "metadata": {},
          "execution_count": 19
        }
      ]
    },
    {
      "cell_type": "code",
      "source": [
        "print('Meu nome é', nome, 'e tenho', idade, 'anos de idade')\n",
        "print(f'Meu nome é {nome} e tenho {idade} anos de idade')"
      ],
      "metadata": {
        "colab": {
          "base_uri": "https://localhost:8080/"
        },
        "id": "7-UlH15PEfjh",
        "outputId": "9472e00f-bcc5-4b21-88e8-ca439f8edfdc"
      },
      "execution_count": null,
      "outputs": [
        {
          "output_type": "stream",
          "name": "stdout",
          "text": [
            "Meu nome é Sandra e tenho 25 anos de idade\n",
            "Meu nome é Sandra e tenho 25 anos de idade\n"
          ]
        }
      ]
    },
    {
      "cell_type": "markdown",
      "source": [
        "**LEIA O NOME E 3 NOTAS DE UM ALUNO E IMPRIMA SUA MEDIA COM 1 CASA DECIMAL, INDICANDO SE PASSOU**"
      ],
      "metadata": {
        "id": "hY5I2cUuI6vD"
      }
    },
    {
      "cell_type": "code",
      "source": [
        "nome = 'Fellipe'\n",
        "n1 = 7.0\n",
        "n2 = 8.0\n",
        "n3 = 10.0\n",
        "media = (n1+n2+n3)/3\n",
        "print(f'O aluno {nome} obteve média de {media:.1f}')\n",
        "\n",
        "if media>=6:\n",
        "  print('ALUNO APROVADO')\n",
        "else:\n",
        "  print('ALUNO REPROVADO')"
      ],
      "metadata": {
        "colab": {
          "base_uri": "https://localhost:8080/"
        },
        "id": "qURpzGdcJAl5",
        "outputId": "19ca5ff0-c7c9-4c21-f4b3-5024a78adae4"
      },
      "execution_count": null,
      "outputs": [
        {
          "output_type": "stream",
          "name": "stdout",
          "text": [
            "O aluno Fellipe obteve média de 8.3\n",
            "ALUNO APROVADO\n"
          ]
        }
      ]
    },
    {
      "cell_type": "markdown",
      "source": [
        " **ENTRANDO COM DADOS PELO TECLADO**"
      ],
      "metadata": {
        "id": "3dJA-On5Ndua"
      }
    },
    {
      "cell_type": "code",
      "source": [
        "#Input é como se fosse o scanf\n",
        "#O comando input lê apenas tipos string (texto)"
      ],
      "metadata": {
        "id": "N0rhzz6BJURw"
      },
      "execution_count": null,
      "outputs": []
    },
    {
      "cell_type": "code",
      "source": [
        "nome = input('Digite seu nome: ')\n",
        "idade = input('Digite sua idade: ')\n",
        "print(f'Seu nome é {nome} e você é virgem a {idade} anos')"
      ],
      "metadata": {
        "colab": {
          "base_uri": "https://localhost:8080/"
        },
        "id": "I7Mk9WcrN0IY",
        "outputId": "a0ac0802-73d0-4c95-dece-7e245c4c0b7a"
      },
      "execution_count": null,
      "outputs": [
        {
          "output_type": "stream",
          "name": "stdout",
          "text": [
            "Digite seu nome: Canosa\n",
            "Digite sua idade: 22\n",
            "Seu nome é Canosa e você é virgem a 22 anos\n"
          ]
        }
      ]
    },
    {
      "cell_type": "code",
      "source": [
        "#Fazendo um CASTING na variável"
      ],
      "metadata": {
        "id": "vgl0U2gxN_Po"
      },
      "execution_count": null,
      "outputs": []
    },
    {
      "cell_type": "code",
      "source": [
        "idade = int (input('Idade:'))\n",
        "nome = input ('Nome:')\n",
        "print(f'Seu nome é {nome} e daqui a 2 anos você terá {idade+2} anos')"
      ],
      "metadata": {
        "colab": {
          "base_uri": "https://localhost:8080/"
        },
        "id": "6S_dzVGsQHmH",
        "outputId": "0ea0fc0c-58c8-4199-9051-da7bfa07a0f9"
      },
      "execution_count": null,
      "outputs": [
        {
          "output_type": "stream",
          "name": "stdout",
          "text": [
            "Idade:22\n",
            "Nome:Canosa\n",
            "Seu nome é Canosa e daqui a 2 anos você terá 24 anos\n"
          ]
        }
      ]
    },
    {
      "cell_type": "code",
      "source": [
        "nota1 = float (input('Nota 1:'))\n",
        "nota2 = float (input('Nota 2:'))\n",
        "nota3 = float (input('NOta 3:'))\n",
        "nome = input('Nome:')\n",
        "print(f'Seu nome é {nome} e você obteve uma media de {(nota1+nota2+nota3)/2}')"
      ],
      "metadata": {
        "colab": {
          "base_uri": "https://localhost:8080/"
        },
        "id": "UBu4NMrVQc-U",
        "outputId": "4ee87fb5-9e25-4961-b62b-7565f57b6e57"
      },
      "execution_count": null,
      "outputs": [
        {
          "output_type": "stream",
          "name": "stdout",
          "text": [
            "Nota 1:1\n",
            "Nota 2:10\n",
            "NOta 3:8\n",
            "Nome:Fellipe\n",
            "Seu nome é Fellipe e você obteve uma media de 9.5\n"
          ]
        }
      ]
    },
    {
      "cell_type": "markdown",
      "source": [
        "\n",
        "\n",
        "```\n",
        "# Isto está formatado como código\n",
        "```\n",
        "\n",
        "**CALCULE SE O NUMERO É IMPAR OU PAR**"
      ],
      "metadata": {
        "id": "n7gfLzOkS6JR"
      }
    },
    {
      "cell_type": "code",
      "source": [
        "print('**VERIFICAR SE O NUMERO É IMPAR OU PAR**\\n')\n",
        "num = int (input('Digite um numero: '))\n",
        "\n",
        "if num %2 == 0:\n",
        "  print('NUMERO PAR')\n",
        "else:\n",
        "  print('NUMERO IMPAR')"
      ],
      "metadata": {
        "colab": {
          "base_uri": "https://localhost:8080/"
        },
        "id": "0VRKsItiS-xp",
        "outputId": "f36e7c29-fc5b-4047-c195-8fc612e13d3d"
      },
      "execution_count": null,
      "outputs": [
        {
          "output_type": "stream",
          "name": "stdout",
          "text": [
            "**VERIFICAR SE O NUMERO É IMPAR OU PAR**\n",
            "\n",
            "Digite um numero: 2\n",
            "NUMERO PAR\n"
          ]
        }
      ]
    },
    {
      "cell_type": "code",
      "source": [],
      "metadata": {
        "id": "1JTacYcgTxNg"
      },
      "execution_count": null,
      "outputs": []
    },
    {
      "cell_type": "markdown",
      "source": [
        "Leia o nome e o salario de uma pessoa. Se o salario for maior ou igual a R$ 5000, o salário receberá um aumento de 5%, se não, de 10%. No final, mostre o valor do salário com o reajuste"
      ],
      "metadata": {
        "id": "i7ZppU0rUyxu"
      }
    },
    {
      "cell_type": "code",
      "source": [
        "nome = input ('Digite o seu nome: ')\n",
        "salario = float (input('Digite seu salário: '))\n",
        "\n",
        "if salario >= 5000.00:\n",
        "  print(f'Seu salário recebeu um aumento de 5% (R$ {salario*0.05:.2f}), logo o valor do seu novo salário é de R$ {salario*1.05:.2f}')\n",
        "else:\n",
        "  print(f'Seu salário recebeu um aumento de 10% (R$ {salario*0.10:.2f}), logo o valor do seu novo salário é de R$ {salario*1.1:.2f}')"
      ],
      "metadata": {
        "colab": {
          "base_uri": "https://localhost:8080/"
        },
        "id": "TMaee7IlVGVv",
        "outputId": "ac8af19b-0738-4c5e-9308-a1fecb587271"
      },
      "execution_count": null,
      "outputs": [
        {
          "output_type": "stream",
          "name": "stdout",
          "text": [
            "Digite o seu nome: Rick\n",
            "Digite seu salário: 1000\n",
            "Seu salário recebeu um aumento de 10% (R$ 100.00), logo o valor do seu novo salário é de R$ 1100.00\n"
          ]
        }
      ]
    },
    {
      "cell_type": "markdown",
      "source": [
        "Jogo de Investigação Criminal\n",
        "\n",
        "Este projeto é um simples jogo de perguntas e respostas que classifica uma pessoa com base em suas respostas a perguntas relacionadas a um crime.\n",
        "\n",
        "Como Funciona\n",
        "\n",
        "O programa faz cinco perguntas ao usuário, que deve responder com \"sim\" ou \"não\". Com base no número de respostas afirmativas, o programa classifica o usuário em uma das seguintes categorias:\n",
        "\n",
        "Inocente: 0 ou 1 resposta \"sim\".\n",
        "\n",
        "Suspeita: 2 respostas \"sim\".\n",
        "\n",
        "Cúmplice: 3 ou 4 respostas \"sim\".\n",
        "\n",
        "Assassino: 5 respostas \"sim\".\n",
        "\n",
        "Tecnologias Utilizadas\n",
        "\n",
        "Linguagem: Python 3\n",
        "\n",
        "Como Executar\n",
        "\n",
        "Certifique-se de ter o Python instalado em seu sistema.\n",
        "\n",
        "Baixe o arquivo contendo o código.\n",
        "\n",
        "Abra um terminal ou prompt de comando e navegue até o diretório do arquivo.\n",
        "\n",
        "Execute o script com o seguinte comando:\n",
        "\n",
        "python nome_do_arquivo.py\n",
        "\n",
        "Responda às perguntas e veja a classificação final.\n",
        "\n",
        "Exemplo de Uso\n",
        "\n",
        "Responda com 'sim' ou 'não' às seguintes perguntas:\n",
        "Telefonou para a vítima? sim\n",
        "Esteve no local do crime? não\n",
        "Mora perto da vítima? sim\n",
        "Devia para a vítima? sim\n",
        "Já trabalhou com a vítima? não\n",
        "A classificação da pessoa é: Cúmplice\n",
        "\n",
        "Contribuição\n",
        "\n",
        "Sinta-se à vontade para modificar e melhorar o código! Sugestões são bem-vindas.\n",
        "\n",
        "Licença\n",
        "\n",
        "Este projeto é de código aberto e pode ser utilizado livremente para aprendizado e aprimoramento.\n",
        "\n"
      ],
      "metadata": {
        "id": "7Xyx_ITuInZp"
      }
    },
    {
      "cell_type": "code",
      "source": [
        "# Lista de perguntas\n",
        "perguntas = [\n",
        "    \"Telefonou para a vítima?\",\n",
        "    \"Esteve no local do crime?\",\n",
        "    \"Mora perto da vítima?\",\n",
        "    \"Devia para a vítima?\",\n",
        "    \"Já trabalhou com a vítima?\"\n",
        "]\n",
        "\n",
        "# Lista para armazenar as respostas\n",
        "respostas = []\n",
        "\n",
        "# Fazer as perguntas e armazenar as respostas\n",
        "print(\"Responda com 'sim' ou 'não' às seguintes perguntas:\")\n",
        "for pergunta in perguntas:\n",
        "    resposta = input(pergunta + \" \").strip().lower()\n",
        "    respostas.append(resposta)\n",
        "\n",
        "# Contar o número de respostas afirmativas\n",
        "numero_respostas_positivas = respostas.count(\"sim\")\n",
        "\n",
        "# Determinar a classificação\n",
        "if numero_respostas_positivas == 2:\n",
        "    classificacao = \"Suspeita\"\n",
        "elif 3 <= numero_respostas_positivas <= 4:\n",
        "    classificacao = \"Cúmplice\"\n",
        "elif numero_respostas_positivas == 5:\n",
        "    classificacao = \"Assassino\"\n",
        "else:\n",
        "    classificacao = \"Inocente\"\n",
        "\n",
        "# Exibir a classificação\n",
        "print(f\"A classificação da pessoa é: {classificacao}\")"
      ],
      "metadata": {
        "id": "cPoEPXOWIrJI"
      },
      "execution_count": null,
      "outputs": []
    }
  ]
}